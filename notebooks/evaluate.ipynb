{
 "cells": [
  {
   "attachments": {},
   "cell_type": "markdown",
   "id": "057b7402",
   "metadata": {},
   "source": [
    "### Load Dataset & Train Index"
   ]
  },
  {
   "cell_type": "code",
   "execution_count": 1,
   "id": "2a89a275",
   "metadata": {},
   "outputs": [],
   "source": [
    "import torch\n",
    "import evaluate\n",
    "import datasets\n",
    "from ettcl.searching import ColBERTSearcher, SearcherConfig\n",
    "from ettcl.encoding import ColBERTEncoder\n",
    "from ettcl.modeling import ColBERTModel, ColBERTTokenizer, ColBERTTokenizerConfig\n",
    "\n",
    "dataset = \"trec\"\n",
    "index_path = \"../indexes/bert-base-uncased.2bits\"\n",
    "model_path = \"bert-base-uncased\"\n",
    "label_column = 'fine_label'"
   ]
  },
  {
   "cell_type": "code",
   "execution_count": 2,
   "id": "4021e6ad",
   "metadata": {},
   "outputs": [
    {
     "name": "stderr",
     "output_type": "stream",
     "text": [
      "Some weights of the model checkpoint at bert-base-uncased were not used when initializing ColBERTModel: ['cls.predictions.decoder.weight', 'cls.predictions.transform.dense.weight', 'cls.predictions.transform.dense.bias', 'cls.seq_relationship.weight', 'cls.predictions.transform.LayerNorm.weight', 'cls.predictions.bias', 'cls.predictions.transform.LayerNorm.bias', 'cls.seq_relationship.bias']\n",
      "- This IS expected if you are initializing ColBERTModel from the checkpoint of a model trained on another task or with another architecture (e.g. initializing a BertForSequenceClassification model from a BertForPreTraining model).\n",
      "- This IS NOT expected if you are initializing ColBERTModel from the checkpoint of a model that you expect to be exactly identical (initializing a BertForSequenceClassification model from a BertForSequenceClassification model).\n"
     ]
    }
   ],
   "source": [
    "model = ColBERTModel.from_pretrained(model_path)\n",
    "tok_config = ColBERTTokenizerConfig(query_maxlen=32)\n",
    "tokenizer = ColBERTTokenizer(model_path, tok_config)\n",
    "encoder = ColBERTEncoder(model, tokenizer)"
   ]
  },
  {
   "cell_type": "code",
   "execution_count": 3,
   "id": "ef32460f",
   "metadata": {
    "scrolled": true
   },
   "outputs": [
    {
     "name": "stderr",
     "output_type": "stream",
     "text": [
      "Found cached dataset trec (/home/IAIS/hiser/.cache/huggingface/datasets/trec/default/2.0.0/f2469cab1b5fceec7249fda55360dfdbd92a7a5b545e91ea0f78ad108ffac1c2)\n",
      "Found cached dataset trec (/home/IAIS/hiser/.cache/huggingface/datasets/trec/default/2.0.0/f2469cab1b5fceec7249fda55360dfdbd92a7a5b545e91ea0f78ad108ffac1c2)\n"
     ]
    }
   ],
   "source": [
    "train_dataset = datasets.load_dataset(dataset, split=\"train\")\n",
    "train_dataset.set_format(\"pt\", columns=[label_column])\n",
    "test_dataset = datasets.load_dataset(dataset, split=\"test\")\n",
    "test_dataset.set_format(\"pt\", columns=[label_column])"
   ]
  },
  {
   "attachments": {},
   "cell_type": "markdown",
   "id": "63e1c03d",
   "metadata": {},
   "source": [
    "#### Evaluation"
   ]
  },
  {
   "cell_type": "code",
   "execution_count": 4,
   "id": "dd210d49-9e10-44e0-a803-aa5542bafa33",
   "metadata": {},
   "outputs": [
    {
     "name": "stdout",
     "output_type": "stream",
     "text": [
      "[Jun 17, 14:57:11] #> Loading codec...\n",
      "[Jun 17, 14:57:11] Loading decompress_residuals_cpp extension (set COLBERT_LOAD_TORCH_EXTENSION_VERBOSE=True for more info)...\n",
      "[Jun 17, 14:57:11] Loading packbits_cpp extension (set COLBERT_LOAD_TORCH_EXTENSION_VERBOSE=True for more info)...\n",
      "[Jun 17, 14:57:13] #> Loading IVF...\n",
      "[Jun 17, 14:57:13] #> Loading doclens...\n"
     ]
    },
    {
     "name": "stderr",
     "output_type": "stream",
     "text": [
      "100%|██████████| 1/1 [00:00<00:00, 1503.33it/s]"
     ]
    },
    {
     "name": "stdout",
     "output_type": "stream",
     "text": [
      "[Jun 17, 14:57:13] #> Loading codes and residuals...\n"
     ]
    },
    {
     "name": "stderr",
     "output_type": "stream",
     "text": [
      "\n",
      "100%|██████████| 1/1 [00:00<00:00, 79.01it/s]\n"
     ]
    }
   ],
   "source": [
    "k = 1\n",
    "searcher_config = SearcherConfig(ncells=16)\n",
    "searcher = ColBERTSearcher(index_path, encoder, searcher_config)\n",
    "accuracy_metric = evaluate.load(\"accuracy\")"
   ]
  },
  {
   "cell_type": "code",
   "execution_count": 5,
   "id": "db928bd3-11c4-4c9c-a81d-c710c8cea870",
   "metadata": {},
   "outputs": [
    {
     "data": {
      "application/vnd.jupyter.widget-view+json": {
       "model_id": "e4154684ff3845e988ee9875e0f4a14e",
       "version_major": 2,
       "version_minor": 0
      },
      "text/plain": [
       "Map:   0%|          | 0/500 [00:00<?, ? examples/s]"
      ]
     },
     "metadata": {},
     "output_type": "display_data"
    },
    {
     "name": "stdout",
     "output_type": "stream",
     "text": [
      "torch.Size([500, 32, 768])\n"
     ]
    },
    {
     "data": {
      "text/plain": [
       "(torch.Size([1]), torch.Size([1]))"
      ]
     },
     "execution_count": 5,
     "metadata": {},
     "output_type": "execute_result"
    }
   ],
   "source": [
    "match_indices, match_scores = searcher.search(test_dataset[\"text\"], k=k, return_tensors=\"pt\")\n",
    "match_indices[1].shape, match_scores[1].shape"
   ]
  },
  {
   "cell_type": "code",
   "execution_count": 7,
   "id": "d0b96eaf-0584-4557-8615-6761e3cde566",
   "metadata": {},
   "outputs": [
    {
     "data": {
      "text/plain": [
       "{'accuracy': 0.732}"
      ]
     },
     "execution_count": 7,
     "metadata": {},
     "output_type": "execute_result"
    }
   ],
   "source": [
    "y_pred = [torch.mode(train_dataset[label_column][indices]).values for indices in match_indices]\n",
    "accuracy_metric.compute(predictions=y_pred, references=test_dataset[label_column])"
   ]
  }
 ],
 "metadata": {
  "kernelspec": {
   "display_name": "Python 3 (ipykernel)",
   "language": "python",
   "name": "python3"
  },
  "language_info": {
   "codemirror_mode": {
    "name": "ipython",
    "version": 3
   },
   "file_extension": ".py",
   "mimetype": "text/x-python",
   "name": "python",
   "nbconvert_exporter": "python",
   "pygments_lexer": "ipython3",
   "version": "3.10.11"
  },
  "vscode": {
   "interpreter": {
    "hash": "f38c841520545b6b959bc05bfc0855bbcced654413e4f2ddecfb8299d3a8b863"
   }
  }
 },
 "nbformat": 4,
 "nbformat_minor": 5
}
