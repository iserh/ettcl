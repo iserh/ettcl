{
 "cells": [
  {
   "attachments": {},
   "cell_type": "markdown",
   "id": "057b7402",
   "metadata": {},
   "source": [
    "### Load Dataset & Train Index"
   ]
  },
  {
   "cell_type": "code",
   "execution_count": 4,
   "id": "2a89a275",
   "metadata": {},
   "outputs": [],
   "source": [
    "import torch\n",
    "import evaluate\n",
    "import datasets\n",
    "from ettcl.searching import ColBERTSearcher\n",
    "from ettcl.encoding import ColBERTEncoder, EncoderFactory\n",
    "\n",
    "dataset = \"trec\"\n",
    "label_column = 'coarse_label'\n",
    "checkpoint = \"../models/colbertv2.0\"\n",
    "index_path = \"../indexes/colbertv2.0.2bits\"\n",
    "encoder_factory = EncoderFactory(ColBERTEncoder, checkpoint=checkpoint)"
   ]
  },
  {
   "cell_type": "code",
   "execution_count": 5,
   "id": "ef32460f",
   "metadata": {
    "scrolled": true
   },
   "outputs": [
    {
     "name": "stderr",
     "output_type": "stream",
     "text": [
      "Found cached dataset trec (/home/hiser/.cache/huggingface/datasets/trec/default/2.0.0/f2469cab1b5fceec7249fda55360dfdbd92a7a5b545e91ea0f78ad108ffac1c2)\n",
      "Found cached dataset trec (/home/hiser/.cache/huggingface/datasets/trec/default/2.0.0/f2469cab1b5fceec7249fda55360dfdbd92a7a5b545e91ea0f78ad108ffac1c2)\n"
     ]
    }
   ],
   "source": [
    "train_dataset = datasets.load_dataset(dataset, split=\"train\")\n",
    "\n",
    "train_dataset.set_format(\"pt\", columns=[label_column])\n",
    "test_dataset = datasets.load_dataset(dataset, split=\"test\")\n",
    "test_dataset.set_format(\"pt\", columns=[label_column])"
   ]
  },
  {
   "attachments": {},
   "cell_type": "markdown",
   "id": "63e1c03d",
   "metadata": {},
   "source": [
    "#### Evaluation"
   ]
  },
  {
   "cell_type": "code",
   "execution_count": 6,
   "id": "dd210d49-9e10-44e0-a803-aa5542bafa33",
   "metadata": {},
   "outputs": [
    {
     "name": "stdout",
     "output_type": "stream",
     "text": [
      "[Jun 07, 21:14:52] Loading segmented_maxsim_cpp extension (set COLBERT_LOAD_TORCH_EXTENSION_VERBOSE=True for more info)...\n",
      "[Jun 07, 21:14:52] #> Loading codec...\n",
      "[Jun 07, 21:14:52] #> Loading IVF...\n",
      "[Jun 07, 21:14:52] Loading segmented_lookup_cpp extension (set COLBERT_LOAD_TORCH_EXTENSION_VERBOSE=True for more info)...\n"
     ]
    },
    {
     "name": "stderr",
     "output_type": "stream",
     "text": [
      "/home/hiser/miniconda3/envs/ettcl/lib/python3.10/site-packages/torch/cuda/amp/grad_scaler.py:120: UserWarning: torch.cuda.amp.GradScaler is enabled, but CUDA is not available.  Disabling.\n",
      "  warnings.warn(\"torch.cuda.amp.GradScaler is enabled, but CUDA is not available.  Disabling.\")\n"
     ]
    },
    {
     "name": "stdout",
     "output_type": "stream",
     "text": [
      "[Jun 07, 21:14:52] #> Loading doclens...\n"
     ]
    },
    {
     "name": "stderr",
     "output_type": "stream",
     "text": [
      "100%|██████████| 2/2 [00:00<00:00, 10512.04it/s]"
     ]
    },
    {
     "name": "stdout",
     "output_type": "stream",
     "text": [
      "[Jun 07, 21:14:53] #> Loading codes and residuals...\n"
     ]
    },
    {
     "name": "stderr",
     "output_type": "stream",
     "text": [
      "\n",
      "100%|██████████| 2/2 [00:00<00:00, 1134.21it/s]"
     ]
    },
    {
     "name": "stdout",
     "output_type": "stream",
     "text": [
      "[Jun 07, 21:14:53] Loading filter_pids_cpp extension (set COLBERT_LOAD_TORCH_EXTENSION_VERBOSE=True for more info)...\n"
     ]
    },
    {
     "name": "stderr",
     "output_type": "stream",
     "text": [
      "\n"
     ]
    },
    {
     "name": "stdout",
     "output_type": "stream",
     "text": [
      "[Jun 07, 21:14:53] Loading decompress_residuals_cpp extension (set COLBERT_LOAD_TORCH_EXTENSION_VERBOSE=True for more info)...\n"
     ]
    },
    {
     "name": "stderr",
     "output_type": "stream",
     "text": [
      "  0%|          | 0/4 [00:00<?, ?it/s]/home/hiser/miniconda3/envs/ettcl/lib/python3.10/site-packages/torch/amp/autocast_mode.py:204: UserWarning: User provided device_type of 'cuda', but CUDA is not available. Disabling\n",
      "  warnings.warn('User provided device_type of \\'cuda\\', but CUDA is not available. Disabling')\n",
      "100%|██████████| 4/4 [00:12<00:00,  3.12s/it]\n",
      "100%|██████████| 500/500 [00:00<00:00, 1088.29it/s]\n"
     ]
    },
    {
     "data": {
      "text/plain": [
       "(torch.Size([5]), torch.Size([5]))"
      ]
     },
     "execution_count": 6,
     "metadata": {},
     "output_type": "execute_result"
    }
   ],
   "source": [
    "k = 5\n",
    "searcher = ColBERTSearcher(index_path, encoder_factory)\n",
    "accuracy_metric = evaluate.load(\"accuracy\")\n",
    "\n",
    "indices, scores = searcher.search(test_dataset[\"text\"], k=k)\n",
    "indices[0].shape, scores[0].shape"
   ]
  },
  {
   "cell_type": "code",
   "execution_count": 7,
   "id": "d0b96eaf-0584-4557-8615-6761e3cde566",
   "metadata": {},
   "outputs": [
    {
     "data": {
      "text/plain": [
       "{'accuracy': 0.76}"
      ]
     },
     "execution_count": 7,
     "metadata": {},
     "output_type": "execute_result"
    }
   ],
   "source": [
    "voting = train_dataset[label_column][torch.cat(indices)].view(-1, k)\n",
    "y_pred = torch.mode(voting, dim=1, keepdim=False)[0]\n",
    "\n",
    "accuracy_metric.compute(predictions=y_pred, references=test_dataset[label_column])"
   ]
  }
 ],
 "metadata": {
  "kernelspec": {
   "display_name": "Python 3 (ipykernel)",
   "language": "python",
   "name": "python3"
  },
  "language_info": {
   "codemirror_mode": {
    "name": "ipython",
    "version": 3
   },
   "file_extension": ".py",
   "mimetype": "text/x-python",
   "name": "python",
   "nbconvert_exporter": "python",
   "pygments_lexer": "ipython3",
   "version": "3.10.11"
  },
  "vscode": {
   "interpreter": {
    "hash": "f38c841520545b6b959bc05bfc0855bbcced654413e4f2ddecfb8299d3a8b863"
   }
  }
 },
 "nbformat": 4,
 "nbformat_minor": 5
}
