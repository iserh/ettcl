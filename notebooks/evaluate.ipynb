{
 "cells": [
  {
   "attachments": {},
   "cell_type": "markdown",
   "id": "057b7402",
   "metadata": {},
   "source": [
    "### Load Dataset & Train Index"
   ]
  },
  {
   "cell_type": "code",
   "execution_count": 1,
   "id": "2a89a275",
   "metadata": {},
   "outputs": [],
   "source": [
    "import torch\n",
    "import evaluate\n",
    "import datasets\n",
    "from pathlib import Path\n",
    "from ettcl.searching import ColBERTSearcher, SearcherConfig\n",
    "from ettcl.encoding import ColBERTEncoder\n",
    "from ettcl.modeling import ColBERTModel, ColBERTTokenizer\n",
    "\n",
    "dataset = \"imdb\"\n",
    "checkpoint = Path(\"../training/imdb/bert-base-uncased/checkpoint-12500\")\n",
    "index_path = checkpoint / \"index\"\n",
    "label_column = 'label'"
   ]
  },
  {
   "cell_type": "code",
   "execution_count": 2,
   "id": "4021e6ad",
   "metadata": {},
   "outputs": [],
   "source": [
    "model = ColBERTModel.from_pretrained(checkpoint)\n",
    "tokenizer = ColBERTTokenizer(checkpoint)\n",
    "encoder = ColBERTEncoder(model, tokenizer)"
   ]
  },
  {
   "cell_type": "code",
   "execution_count": 3,
   "id": "ef32460f",
   "metadata": {
    "scrolled": true
   },
   "outputs": [
    {
     "name": "stderr",
     "output_type": "stream",
     "text": [
      "Found cached dataset imdb (/home/IAIS/hiser/.cache/huggingface/datasets/imdb/plain_text/1.0.0/d613c88cf8fa3bab83b4ded3713f1f74830d1100e171db75bbddb80b3345c9c0)\n",
      "Found cached dataset imdb (/home/IAIS/hiser/.cache/huggingface/datasets/imdb/plain_text/1.0.0/d613c88cf8fa3bab83b4ded3713f1f74830d1100e171db75bbddb80b3345c9c0)\n"
     ]
    },
    {
     "data": {
      "text/plain": [
       "(25000, 25000)"
      ]
     },
     "execution_count": 3,
     "metadata": {},
     "output_type": "execute_result"
    }
   ],
   "source": [
    "train_dataset = datasets.load_dataset(dataset, split=\"train\")\n",
    "train_dataset.set_format(\"pt\", columns=[label_column])\n",
    "test_dataset = datasets.load_dataset(dataset, split=\"test\")\n",
    "test_dataset.set_format(\"pt\", columns=[label_column])\n",
    "len(train_dataset), len(test_dataset)"
   ]
  },
  {
   "attachments": {},
   "cell_type": "markdown",
   "id": "63e1c03d",
   "metadata": {},
   "source": [
    "#### Evaluation"
   ]
  },
  {
   "cell_type": "code",
   "execution_count": 4,
   "id": "dd210d49-9e10-44e0-a803-aa5542bafa33",
   "metadata": {},
   "outputs": [],
   "source": [
    "k = 1\n",
    "searcher_config = SearcherConfig()\n",
    "searcher = ColBERTSearcher(index_path, encoder, searcher_config)\n",
    "accuracy_metric = evaluate.load(\"accuracy\")"
   ]
  },
  {
   "cell_type": "code",
   "execution_count": 5,
   "id": "db928bd3-11c4-4c9c-a81d-c710c8cea870",
   "metadata": {},
   "outputs": [
    {
     "name": "stdout",
     "output_type": "stream",
     "text": [
      "USING DEVICE 0\n",
      "[Jun 19, 02:32:27] #> Loading codec...\n",
      "[Jun 19, 02:32:27] Loading decompress_residuals_cpp extension (set COLBERT_LOAD_TORCH_EXTENSION_VERBOSE=True for more info)...\n",
      "[Jun 19, 02:32:27] Loading packbits_cpp extension (set COLBERT_LOAD_TORCH_EXTENSION_VERBOSE=True for more info)...\n",
      "[Jun 19, 02:32:29] #> Loading IVF...\n",
      "[Jun 19, 02:32:29] #> Loading doclens...\n"
     ]
    },
    {
     "name": "stderr",
     "output_type": "stream",
     "text": [
      "100%|██████████| 2/2 [00:00<00:00, 70.18it/s]"
     ]
    },
    {
     "name": "stdout",
     "output_type": "stream",
     "text": [
      "[Jun 19, 02:32:29] #> Loading codes and residuals...\n"
     ]
    },
    {
     "name": "stderr",
     "output_type": "stream",
     "text": [
      "\n",
      "100%|██████████| 2/2 [00:00<00:00,  2.60it/s]\n"
     ]
    },
    {
     "data": {
      "application/vnd.jupyter.widget-view+json": {
       "model_id": "5a0cf884df56433a8a4ba2d072311d33",
       "version_major": 2,
       "version_minor": 0
      },
      "text/plain": [
       "Map:   0%|          | 0/25000 [00:00<?, ? examples/s]"
      ]
     },
     "metadata": {},
     "output_type": "display_data"
    },
    {
     "name": "stderr",
     "output_type": "stream",
     "text": [
      "Encoding: 98it [05:02,  3.09s/it]                        \n",
      "Searching (device 0): 100%|██████████| 25000/25000 [14:36<00:00, 28.51it/s]\n"
     ]
    },
    {
     "data": {
      "text/plain": [
       "(torch.Size([1]), torch.Size([1]))"
      ]
     },
     "execution_count": 5,
     "metadata": {},
     "output_type": "execute_result"
    }
   ],
   "source": [
    "match_indices, match_scores = searcher.search(test_dataset[\"text\"], k=k, return_tensors=\"pt\", progress_bar=True)\n",
    "match_indices[1].shape, match_scores[1].shape"
   ]
  },
  {
   "cell_type": "code",
   "execution_count": 18,
   "id": "d0b96eaf-0584-4557-8615-6761e3cde566",
   "metadata": {},
   "outputs": [
    {
     "data": {
      "text/plain": [
       "{'accuracy': 0.49956}"
      ]
     },
     "execution_count": 18,
     "metadata": {},
     "output_type": "execute_result"
    }
   ],
   "source": [
    "# y_pred = [torch.mode(train_dataset[label_column][indices]).values for indices in match_indices]\n",
    "y_pred = train_dataset[label_column][torch.cat(match_indices)]\n",
    "accuracy_metric.compute(predictions=y_pred, references=test_dataset[label_column])"
   ]
  },
  {
   "cell_type": "code",
   "execution_count": 1,
   "id": "e5cbd4b8",
   "metadata": {},
   "outputs": [
    {
     "ename": "NameError",
     "evalue": "name 'train_dataset' is not defined",
     "output_type": "error",
     "traceback": [
      "\u001b[0;31m---------------------------------------------------------------------------\u001b[0m",
      "\u001b[0;31mNameError\u001b[0m                                 Traceback (most recent call last)",
      "Cell \u001b[0;32mIn[1], line 1\u001b[0m\n\u001b[0;32m----> 1\u001b[0m train_dataset[match_indices[\u001b[39m0\u001b[39m]]\n",
      "\u001b[0;31mNameError\u001b[0m: name 'train_dataset' is not defined"
     ]
    }
   ],
   "source": [
    "train_dataset[match_indices[0]]"
   ]
  }
 ],
 "metadata": {
  "kernelspec": {
   "display_name": "Python 3 (ipykernel)",
   "language": "python",
   "name": "python3"
  },
  "language_info": {
   "codemirror_mode": {
    "name": "ipython",
    "version": 3
   },
   "file_extension": ".py",
   "mimetype": "text/x-python",
   "name": "python",
   "nbconvert_exporter": "python",
   "pygments_lexer": "ipython3",
   "version": "3.10.11"
  },
  "vscode": {
   "interpreter": {
    "hash": "f38c841520545b6b959bc05bfc0855bbcced654413e4f2ddecfb8299d3a8b863"
   }
  }
 },
 "nbformat": 4,
 "nbformat_minor": 5
}
