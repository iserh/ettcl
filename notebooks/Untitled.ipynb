{
 "cells": [
  {
   "cell_type": "code",
   "execution_count": 1,
   "id": "ad6a5952",
   "metadata": {},
   "outputs": [],
   "source": [
    "from datasets import Dataset, concatenate_datasets\n",
    "import numpy as np"
   ]
  },
  {
   "cell_type": "code",
   "execution_count": 2,
   "id": "c7ec4208",
   "metadata": {},
   "outputs": [
    {
     "data": {
      "text/plain": [
       "Dataset({\n",
       "    features: ['emb'],\n",
       "    num_rows: 12800000\n",
       "})"
      ]
     },
     "execution_count": 2,
     "metadata": {},
     "output_type": "execute_result"
    }
   ],
   "source": [
    "ds = Dataset.from_dict({\"emb\": np.empty(shape=(1000 * 512, 128))})\n",
    "\n",
    "for i in range(24):\n",
    "    ds2 = Dataset.from_dict({\"emb\": np.empty(shape=(1000 * 512, 128))})\n",
    "    ds = concatenate_datasets([ds, ds2])\n",
    "\n",
    "ds"
   ]
  },
  {
   "cell_type": "code",
   "execution_count": 4,
   "id": "823f7d52",
   "metadata": {},
   "outputs": [
    {
     "data": {
      "application/vnd.jupyter.widget-view+json": {
       "model_id": "390b2a40cc474beab670cd6f7f162c02",
       "version_major": 2,
       "version_minor": 0
      },
      "text/plain": [
       "  0%|          | 0/12800 [00:00<?, ?it/s]"
      ]
     },
     "metadata": {},
     "output_type": "display_data"
    },
    {
     "data": {
      "text/plain": [
       "Dataset({\n",
       "    features: ['emb'],\n",
       "    num_rows: 12800000\n",
       "})"
      ]
     },
     "execution_count": 4,
     "metadata": {},
     "output_type": "execute_result"
    }
   ],
   "source": [
    "ds.add_faiss_index(\"emb\", index_name=\"index\", train_size=500_000, device=-1, faiss_verbose=True)\n",
    "ds"
   ]
  },
  {
   "cell_type": "code",
   "execution_count": 6,
   "id": "a400f026",
   "metadata": {},
   "outputs": [
    {
     "ename": "AttributeError",
     "evalue": "'list' object has no attribute 'shape'",
     "output_type": "error",
     "traceback": [
      "\u001b[0;31m---------------------------------------------------------------------------\u001b[0m",
      "\u001b[0;31mAttributeError\u001b[0m                            Traceback (most recent call last)",
      "Cell \u001b[0;32mIn[6], line 1\u001b[0m\n\u001b[0;32m----> 1\u001b[0m ds\u001b[39m.\u001b[39;49msearch_batch(\u001b[39m\"\u001b[39;49m\u001b[39mindex\u001b[39;49m\u001b[39m\"\u001b[39;49m, ds[\u001b[39m\"\u001b[39;49m\u001b[39memb\u001b[39;49m\u001b[39m\"\u001b[39;49m], k\u001b[39m=\u001b[39;49m\u001b[39m512\u001b[39;49m)\n",
      "File \u001b[0;32m~/miniconda3/envs/colbert/lib/python3.10/site-packages/datasets/search.py:722\u001b[0m, in \u001b[0;36mIndexableMixin.search_batch\u001b[0;34m(self, index_name, queries, k, **kwargs)\u001b[0m\n\u001b[1;32m    707\u001b[0m \u001b[39m\u001b[39m\u001b[39m\"\"\"Find the nearest examples indices in the dataset to the query.\u001b[39;00m\n\u001b[1;32m    708\u001b[0m \n\u001b[1;32m    709\u001b[0m \u001b[39mArgs:\u001b[39;00m\n\u001b[0;32m   (...)\u001b[0m\n\u001b[1;32m    719\u001b[0m \u001b[39m    - total_indices (`List[List[int]]`): The indices of the retrieved examples per query.\u001b[39;00m\n\u001b[1;32m    720\u001b[0m \u001b[39m\"\"\"\u001b[39;00m\n\u001b[1;32m    721\u001b[0m \u001b[39mself\u001b[39m\u001b[39m.\u001b[39m_check_index_is_initialized(index_name)\n\u001b[0;32m--> 722\u001b[0m \u001b[39mreturn\u001b[39;00m \u001b[39mself\u001b[39;49m\u001b[39m.\u001b[39;49m_indexes[index_name]\u001b[39m.\u001b[39;49msearch_batch(queries, k, \u001b[39m*\u001b[39;49m\u001b[39m*\u001b[39;49mkwargs)\n",
      "File \u001b[0;32m~/miniconda3/envs/colbert/lib/python3.10/site-packages/datasets/search.py:373\u001b[0m, in \u001b[0;36mFaissIndex.search_batch\u001b[0;34m(self, queries, k, **kwargs)\u001b[0m\n\u001b[1;32m    362\u001b[0m \u001b[39mdef\u001b[39;00m \u001b[39msearch_batch\u001b[39m(\u001b[39mself\u001b[39m, queries: np\u001b[39m.\u001b[39marray, k\u001b[39m=\u001b[39m\u001b[39m10\u001b[39m, \u001b[39m*\u001b[39m\u001b[39m*\u001b[39mkwargs) \u001b[39m-\u001b[39m\u001b[39m>\u001b[39m BatchedSearchResults:\n\u001b[1;32m    363\u001b[0m \u001b[39m    \u001b[39m\u001b[39m\"\"\"Find the nearest examples indices to the queries.\u001b[39;00m\n\u001b[1;32m    364\u001b[0m \n\u001b[1;32m    365\u001b[0m \u001b[39m    Args:\u001b[39;00m\n\u001b[0;32m   (...)\u001b[0m\n\u001b[1;32m    371\u001b[0m \u001b[39m        total_indices (`List[List[int]]`): The indices of the retrieved examples per query.\u001b[39;00m\n\u001b[1;32m    372\u001b[0m \u001b[39m    \"\"\"\u001b[39;00m\n\u001b[0;32m--> 373\u001b[0m     \u001b[39mif\u001b[39;00m \u001b[39mlen\u001b[39m(queries\u001b[39m.\u001b[39;49mshape) \u001b[39m!=\u001b[39m \u001b[39m2\u001b[39m:\n\u001b[1;32m    374\u001b[0m         \u001b[39mraise\u001b[39;00m \u001b[39mValueError\u001b[39;00m(\u001b[39m\"\u001b[39m\u001b[39mShape of query must be 2D\u001b[39m\u001b[39m\"\u001b[39m)\n\u001b[1;32m    375\u001b[0m     \u001b[39mif\u001b[39;00m \u001b[39mnot\u001b[39;00m queries\u001b[39m.\u001b[39mflags\u001b[39m.\u001b[39mc_contiguous:\n",
      "\u001b[0;31mAttributeError\u001b[0m: 'list' object has no attribute 'shape'"
     ]
    }
   ],
   "source": [
    "ds.search_batch(\"index\", ds[\"emb\"], k=512)"
   ]
  }
 ],
 "metadata": {
  "kernelspec": {
   "display_name": "Python 3 (ipykernel)",
   "language": "python",
   "name": "python3"
  },
  "language_info": {
   "codemirror_mode": {
    "name": "ipython",
    "version": 3
   },
   "file_extension": ".py",
   "mimetype": "text/x-python",
   "name": "python",
   "nbconvert_exporter": "python",
   "pygments_lexer": "ipython3",
   "version": "3.10.11"
  }
 },
 "nbformat": 4,
 "nbformat_minor": 5
}
