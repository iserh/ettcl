{
 "cells": [
  {
   "cell_type": "code",
   "execution_count": 4,
   "id": "6e50ca91",
   "metadata": {},
   "outputs": [],
   "source": [
    "from ettcl.modeling.tokenization_colbert import ColBERTTokenizer, ColBERTTokenizerConfig\n",
    "from datasets import load_dataset"
   ]
  },
  {
   "cell_type": "code",
   "execution_count": 5,
   "id": "3f9670b6",
   "metadata": {},
   "outputs": [
    {
     "name": "stderr",
     "output_type": "stream",
     "text": [
      "Found cached dataset trec (/home/IAIS/hiser/.cache/huggingface/datasets/trec/default/2.0.0/f2469cab1b5fceec7249fda55360dfdbd92a7a5b545e91ea0f78ad108ffac1c2)\n"
     ]
    }
   ],
   "source": [
    "dataset = load_dataset(\"trec\", split=\"train\")\n",
    "tokenizer = ColBERTTokenizer(\"bert-base-uncased\")"
   ]
  },
  {
   "cell_type": "code",
   "execution_count": 25,
   "id": "24b6de5f",
   "metadata": {},
   "outputs": [
    {
     "data": {
      "text/plain": [
       "transformers.tokenization_utils_base.BatchEncoding"
      ]
     },
     "execution_count": 25,
     "metadata": {},
     "output_type": "execute_result"
    }
   ],
   "source": [
    "type(tokenizer.tokenizer(dataset[\"text\"][0], return_tensors=\"pt\"))"
   ]
  },
  {
   "cell_type": "code",
   "execution_count": 2,
   "id": "9cad3756",
   "metadata": {},
   "outputs": [],
   "source": [
    "from torch import nn"
   ]
  },
  {
   "cell_type": "code",
   "execution_count": 3,
   "id": "eef26e55",
   "metadata": {},
   "outputs": [
    {
     "ename": "AttributeError",
     "evalue": "'Module' object has no attribute 'is_cuda'",
     "output_type": "error",
     "traceback": [
      "\u001b[0;31m---------------------------------------------------------------------------\u001b[0m",
      "\u001b[0;31mAttributeError\u001b[0m                            Traceback (most recent call last)",
      "Cell \u001b[0;32mIn[3], line 1\u001b[0m\n\u001b[0;32m----> 1\u001b[0m nn\u001b[39m.\u001b[39;49mModule()\u001b[39m.\u001b[39;49mis_cuda\n",
      "File \u001b[0;32m~/miniconda3/envs/colbert/lib/python3.10/site-packages/torch/nn/modules/module.py:1614\u001b[0m, in \u001b[0;36mModule.__getattr__\u001b[0;34m(self, name)\u001b[0m\n\u001b[1;32m   1612\u001b[0m     \u001b[39mif\u001b[39;00m name \u001b[39min\u001b[39;00m modules:\n\u001b[1;32m   1613\u001b[0m         \u001b[39mreturn\u001b[39;00m modules[name]\n\u001b[0;32m-> 1614\u001b[0m \u001b[39mraise\u001b[39;00m \u001b[39mAttributeError\u001b[39;00m(\u001b[39m\"\u001b[39m\u001b[39m'\u001b[39m\u001b[39m{}\u001b[39;00m\u001b[39m'\u001b[39m\u001b[39m object has no attribute \u001b[39m\u001b[39m'\u001b[39m\u001b[39m{}\u001b[39;00m\u001b[39m'\u001b[39m\u001b[39m\"\u001b[39m\u001b[39m.\u001b[39mformat(\n\u001b[1;32m   1615\u001b[0m     \u001b[39mtype\u001b[39m(\u001b[39mself\u001b[39m)\u001b[39m.\u001b[39m\u001b[39m__name__\u001b[39m, name))\n",
      "\u001b[0;31mAttributeError\u001b[0m: 'Module' object has no attribute 'is_cuda'"
     ]
    }
   ],
   "source": [
    "nn.Module()."
   ]
  },
  {
   "cell_type": "code",
   "execution_count": 4,
   "id": "1b32c3e2",
   "metadata": {},
   "outputs": [],
   "source": [
    "t = t.cuda()"
   ]
  },
  {
   "cell_type": "code",
   "execution_count": 11,
   "id": "8eed1986",
   "metadata": {},
   "outputs": [],
   "source": [
    "t = t.half().cuda()"
   ]
  },
  {
   "cell_type": "code",
   "execution_count": 13,
   "id": "7473074e",
   "metadata": {},
   "outputs": [
    {
     "data": {
      "text/plain": [
       "tensor([0, 0, 0, 0, 0, 0, 0, 0, 0, 0, 0, 0, 0, 0, 0, 0, 0, 0, 0, 0, 0, 0, 0, 0,\n",
       "        0, 0, 0, 0, 0, 0, 0, 0, 0, 0, 0, 0, 0, 0, 0, 0, 0, 0, 0, 0, 0, 0, 0, 0,\n",
       "        0, 0, 0, 0, 0, 0, 0, 0, 0, 0, 0, 0, 0, 0, 0, 0, 0, 0, 0, 0, 0, 0, 0, 0,\n",
       "        0, 0, 0, 0, 0, 0, 0, 0, 0, 0, 0, 0, 0, 0, 0, 0, 0, 0, 0, 0, 0, 0, 0, 0,\n",
       "        0, 0, 0, 0, 0, 0, 0, 0, 0, 0, 0, 0, 0, 0, 0, 0, 0, 0, 0, 0, 0, 0, 0, 0,\n",
       "        0, 0, 0, 0, 0, 0, 0, 0], device='cuda:0')"
      ]
     },
     "execution_count": 13,
     "metadata": {},
     "output_type": "execute_result"
    }
   ],
   "source": [
    "(t == 1).sum(-1)"
   ]
  },
  {
   "cell_type": "code",
   "execution_count": 115,
   "id": "0e7cd98b",
   "metadata": {},
   "outputs": [
    {
     "data": {
      "text/plain": [
       "Dataset({\n",
       "    features: ['text'],\n",
       "    num_rows: 5452\n",
       "})"
      ]
     },
     "execution_count": 115,
     "metadata": {},
     "output_type": "execute_result"
    }
   ],
   "source": [
    "from datasets import Dataset\n",
    "\n",
    "data = Dataset.from_dict({\"text\": dataset[\"text\"][:]})\n",
    "data"
   ]
  },
  {
   "cell_type": "code",
   "execution_count": 116,
   "id": "600e2237",
   "metadata": {},
   "outputs": [
    {
     "data": {
      "application/vnd.jupyter.widget-view+json": {
       "model_id": "7ebba5a15202480ea1b9fb3c11178616",
       "version_major": 2,
       "version_minor": 0
      },
      "text/plain": [
       "Map:   0%|          | 0/5452 [00:00<?, ? examples/s]"
      ]
     },
     "metadata": {},
     "output_type": "display_data"
    },
    {
     "data": {
      "text/plain": [
       "Dataset({\n",
       "    features: ['input_ids', 'token_type_ids', 'attention_mask'],\n",
       "    num_rows: 5452\n",
       "})"
      ]
     },
     "execution_count": 116,
     "metadata": {},
     "output_type": "execute_result"
    }
   ],
   "source": [
    "data = data.map(lambda batch: tokenizer(batch[\"text\"], return_tensors=\"pt\", padding=\"longest\", truncation=\"longest_first\"), batched=True, batch_size=1024)\n",
    "data = data.remove_columns(\"text\")\n",
    "data.set_format(\"pt\")\n",
    "data"
   ]
  },
  {
   "cell_type": "code",
   "execution_count": 103,
   "id": "bcf07bdd",
   "metadata": {},
   "outputs": [],
   "source": [
    "iterator = data.iter(256)\n"
   ]
  },
  {
   "cell_type": "code",
   "execution_count": 120,
   "id": "f1265115",
   "metadata": {},
   "outputs": [],
   "source": [
    "n = 87"
   ]
  },
  {
   "cell_type": "code",
   "execution_count": 125,
   "id": "a3b0fdcc",
   "metadata": {},
   "outputs": [
    {
     "data": {
      "text/plain": [
       "1044"
      ]
     },
     "execution_count": 125,
     "metadata": {},
     "output_type": "execute_result"
    }
   ],
   "source": [
    "bs = 1024 + (n - 1024 % n)\n",
    "bs"
   ]
  },
  {
   "cell_type": "code",
   "execution_count": 126,
   "id": "2848d380",
   "metadata": {},
   "outputs": [
    {
     "data": {
      "text/plain": [
       "12.0"
      ]
     },
     "execution_count": 126,
     "metadata": {},
     "output_type": "execute_result"
    }
   ],
   "source": [
    "bs / n"
   ]
  },
  {
   "cell_type": "code",
   "execution_count": 1,
   "id": "1900be80",
   "metadata": {},
   "outputs": [],
   "source": [
    "from ettcl.modeling import ColBERTTokenizer"
   ]
  },
  {
   "cell_type": "code",
   "execution_count": 2,
   "id": "1e9ad7b9",
   "metadata": {},
   "outputs": [
    {
     "data": {
      "text/plain": [
       "['[CLS]', '[unused1]', 'hall', '##o', 'we', '##lt', '[SEP]']"
      ]
     },
     "execution_count": 2,
     "metadata": {},
     "output_type": "execute_result"
    }
   ],
   "source": [
    "tokenizer = ColBERTTokenizer(\"bert-base-uncased\")\n",
    "tokenizer.tokenize(\"Hallo Welt\")"
   ]
  },
  {
   "cell_type": "code",
   "execution_count": 135,
   "id": "49199123",
   "metadata": {},
   "outputs": [],
   "source": [
    "class Test(str, Enum):\n",
    "    ABC = \"abc\""
   ]
  },
  {
   "cell_type": "code",
   "execution_count": null,
   "id": "ccd5a002",
   "metadata": {},
   "outputs": [],
   "source": []
  },
  {
   "cell_type": "code",
   "execution_count": 136,
   "id": "16da4488",
   "metadata": {},
   "outputs": [
    {
     "data": {
      "text/plain": [
       "False"
      ]
     },
     "execution_count": 136,
     "metadata": {},
     "output_type": "execute_result"
    }
   ],
   "source": [
    "isinstance(\"abc\", Test)"
   ]
  },
  {
   "cell_type": "code",
   "execution_count": 1,
   "id": "929d274f",
   "metadata": {},
   "outputs": [],
   "source": [
    "from ettcl.modeling import ColBERTModel, ColBERTConfig\n",
    "from transformers import BertConfig, AutoModel\n",
    "\n",
    "config = ColBERTConfig.from_pretrained(\"bert-base-uncased\")\n",
    "model = ColBERTModel(config)"
   ]
  },
  {
   "cell_type": "code",
   "execution_count": null,
   "id": "37a34f3b",
   "metadata": {},
   "outputs": [],
   "source": [
    "model.save_pretrained(\"../models/test\")"
   ]
  },
  {
   "cell_type": "code",
   "execution_count": 28,
   "id": "0ebb9b61",
   "metadata": {},
   "outputs": [
    {
     "data": {
      "text/plain": [
       "transformers.models.bert.modeling_bert.BertModel"
      ]
     },
     "execution_count": 28,
     "metadata": {},
     "output_type": "execute_result"
    }
   ],
   "source": [
    "from transformers.models.auto.auto_factory import _get_model_class\n",
    "from transformers import AutoConfig, AutoModel, PretrainedConfig, PreTrainedModel\n",
    "\n",
    "config = AutoConfig.from_pretrained(\"../models/test\")\n",
    "base_model_cls = _get_model_class(config, AutoModel._model_mapping)\n",
    "base_model_cls"
   ]
  },
  {
   "cell_type": "code",
   "execution_count": 48,
   "id": "1b66420e",
   "metadata": {},
   "outputs": [
    {
     "data": {
      "text/plain": [
       "['T_destination',\n",
       " '_auto_class',\n",
       " '_keep_in_fp32_modules',\n",
       " '_keys_to_ignore_on_load_missing',\n",
       " '_keys_to_ignore_on_load_unexpected',\n",
       " '_keys_to_ignore_on_save',\n",
       " '_no_split_modules',\n",
       " '_version',\n",
       " 'base_model_prefix',\n",
       " 'call_super_init',\n",
       " 'dump_patches',\n",
       " 'is_parallelizable',\n",
       " 'main_input_name',\n",
       " 'supports_gradient_checkpointing']"
      ]
     },
     "execution_count": 48,
     "metadata": {},
     "output_type": "execute_result"
    }
   ],
   "source": [
    "class_variables = [attribute for attribute in dir(base_model_cls)\n",
    "                   if not attribute.startswith('__')\n",
    "                   and not callable(getattr(base_model_cls, attribute))\n",
    "                   and not isinstance(getattr(base_model_cls, attribute), property)\n",
    "                   ]\n",
    "class_variables"
   ]
  },
  {
   "cell_type": "code",
   "execution_count": 54,
   "id": "2bb8f2e5",
   "metadata": {},
   "outputs": [
    {
     "data": {
      "text/plain": [
       "'bert'"
      ]
     },
     "execution_count": 54,
     "metadata": {},
     "output_type": "execute_result"
    }
   ],
   "source": [
    "config.to_dict()[\"model_type\"]"
   ]
  }
 ],
 "metadata": {
  "kernelspec": {
   "display_name": "Python 3 (ipykernel)",
   "language": "python",
   "name": "python3"
  },
  "language_info": {
   "codemirror_mode": {
    "name": "ipython",
    "version": 3
   },
   "file_extension": ".py",
   "mimetype": "text/x-python",
   "name": "python",
   "nbconvert_exporter": "python",
   "pygments_lexer": "ipython3",
   "version": "3.10.11"
  }
 },
 "nbformat": 4,
 "nbformat_minor": 5
}
